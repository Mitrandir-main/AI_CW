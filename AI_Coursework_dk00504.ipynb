{
  "nbformat": 4,
  "nbformat_minor": 0,
  "metadata": {
    "colab": {
      "name": "AI_Coursework.ipynb",
      "provenance": [],
      "collapsed_sections": []
    },
    "kernelspec": {
      "name": "python3",
      "display_name": "Python 3"
    },
    "language_info": {
      "name": "python"
    },
    "accelerator": "GPU"
  },
  "cells": [
    {
      "cell_type": "code",
      "metadata": {
        "colab": {
          "base_uri": "https://localhost:8080/"
        },
        "id": "bcqlf6JCrvWw",
        "outputId": "34586c57-784f-443b-8055-4daddc5812c3"
      },
      "source": [
        "!apt install unzip\n"
      ],
      "execution_count": 3,
      "outputs": [
        {
          "output_type": "stream",
          "text": [
            "Reading package lists... Done\n",
            "Building dependency tree       \n",
            "Reading state information... Done\n",
            "unzip is already the newest version (6.0-21ubuntu1.1).\n",
            "The following package was automatically installed and is no longer required:\n",
            "  libnvidia-common-460\n",
            "Use 'apt autoremove' to remove it.\n",
            "0 upgraded, 0 newly installed, 0 to remove and 34 not upgraded.\n"
          ],
          "name": "stdout"
        }
      ]
    },
    {
      "cell_type": "code",
      "metadata": {
        "colab": {
          "base_uri": "https://localhost:8080/"
        },
        "id": "QbqeaxHwr2b5",
        "outputId": "362482b2-883b-4694-81a7-cd22896ac5c9"
      },
      "source": [
        "!pip install --upgrade --force-reinstall --no-deps kaggle\n"
      ],
      "execution_count": 4,
      "outputs": [
        {
          "output_type": "stream",
          "text": [
            "Processing /root/.cache/pip/wheels/a1/6a/26/d30b7499ff85a4a4593377a87ecf55f7d08af42f0de9b60303/kaggle-1.5.12-cp37-none-any.whl\n",
            "Installing collected packages: kaggle\n",
            "  Found existing installation: kaggle 1.5.12\n",
            "    Uninstalling kaggle-1.5.12:\n",
            "      Successfully uninstalled kaggle-1.5.12\n",
            "Successfully installed kaggle-1.5.12\n"
          ],
          "name": "stdout"
        }
      ]
    },
    {
      "cell_type": "code",
      "metadata": {
        "colab": {
          "resources": {
            "http://localhost:8080/nbextensions/google.colab/files.js": {
              "data": "Ly8gQ29weXJpZ2h0IDIwMTcgR29vZ2xlIExMQwovLwovLyBMaWNlbnNlZCB1bmRlciB0aGUgQXBhY2hlIExpY2Vuc2UsIFZlcnNpb24gMi4wICh0aGUgIkxpY2Vuc2UiKTsKLy8geW91IG1heSBub3QgdXNlIHRoaXMgZmlsZSBleGNlcHQgaW4gY29tcGxpYW5jZSB3aXRoIHRoZSBMaWNlbnNlLgovLyBZb3UgbWF5IG9idGFpbiBhIGNvcHkgb2YgdGhlIExpY2Vuc2UgYXQKLy8KLy8gICAgICBodHRwOi8vd3d3LmFwYWNoZS5vcmcvbGljZW5zZXMvTElDRU5TRS0yLjAKLy8KLy8gVW5sZXNzIHJlcXVpcmVkIGJ5IGFwcGxpY2FibGUgbGF3IG9yIGFncmVlZCB0byBpbiB3cml0aW5nLCBzb2Z0d2FyZQovLyBkaXN0cmlidXRlZCB1bmRlciB0aGUgTGljZW5zZSBpcyBkaXN0cmlidXRlZCBvbiBhbiAiQVMgSVMiIEJBU0lTLAovLyBXSVRIT1VUIFdBUlJBTlRJRVMgT1IgQ09ORElUSU9OUyBPRiBBTlkgS0lORCwgZWl0aGVyIGV4cHJlc3Mgb3IgaW1wbGllZC4KLy8gU2VlIHRoZSBMaWNlbnNlIGZvciB0aGUgc3BlY2lmaWMgbGFuZ3VhZ2UgZ292ZXJuaW5nIHBlcm1pc3Npb25zIGFuZAovLyBsaW1pdGF0aW9ucyB1bmRlciB0aGUgTGljZW5zZS4KCi8qKgogKiBAZmlsZW92ZXJ2aWV3IEhlbHBlcnMgZm9yIGdvb2dsZS5jb2xhYiBQeXRob24gbW9kdWxlLgogKi8KKGZ1bmN0aW9uKHNjb3BlKSB7CmZ1bmN0aW9uIHNwYW4odGV4dCwgc3R5bGVBdHRyaWJ1dGVzID0ge30pIHsKICBjb25zdCBlbGVtZW50ID0gZG9jdW1lbnQuY3JlYXRlRWxlbWVudCgnc3BhbicpOwogIGVsZW1lbnQudGV4dENvbnRlbnQgPSB0ZXh0OwogIGZvciAoY29uc3Qga2V5IG9mIE9iamVjdC5rZXlzKHN0eWxlQXR0cmlidXRlcykpIHsKICAgIGVsZW1lbnQuc3R5bGVba2V5XSA9IHN0eWxlQXR0cmlidXRlc1trZXldOwogIH0KICByZXR1cm4gZWxlbWVudDsKfQoKLy8gTWF4IG51bWJlciBvZiBieXRlcyB3aGljaCB3aWxsIGJlIHVwbG9hZGVkIGF0IGEgdGltZS4KY29uc3QgTUFYX1BBWUxPQURfU0laRSA9IDEwMCAqIDEwMjQ7CgpmdW5jdGlvbiBfdXBsb2FkRmlsZXMoaW5wdXRJZCwgb3V0cHV0SWQpIHsKICBjb25zdCBzdGVwcyA9IHVwbG9hZEZpbGVzU3RlcChpbnB1dElkLCBvdXRwdXRJZCk7CiAgY29uc3Qgb3V0cHV0RWxlbWVudCA9IGRvY3VtZW50LmdldEVsZW1lbnRCeUlkKG91dHB1dElkKTsKICAvLyBDYWNoZSBzdGVwcyBvbiB0aGUgb3V0cHV0RWxlbWVudCB0byBtYWtlIGl0IGF2YWlsYWJsZSBmb3IgdGhlIG5leHQgY2FsbAogIC8vIHRvIHVwbG9hZEZpbGVzQ29udGludWUgZnJvbSBQeXRob24uCiAgb3V0cHV0RWxlbWVudC5zdGVwcyA9IHN0ZXBzOwoKICByZXR1cm4gX3VwbG9hZEZpbGVzQ29udGludWUob3V0cHV0SWQpOwp9CgovLyBUaGlzIGlzIHJvdWdobHkgYW4gYXN5bmMgZ2VuZXJhdG9yIChub3Qgc3VwcG9ydGVkIGluIHRoZSBicm93c2VyIHlldCksCi8vIHdoZXJlIHRoZXJlIGFyZSBtdWx0aXBsZSBhc3luY2hyb25vdXMgc3RlcHMgYW5kIHRoZSBQeXRob24gc2lkZSBpcyBnb2luZwovLyB0byBwb2xsIGZvciBjb21wbGV0aW9uIG9mIGVhY2ggc3RlcC4KLy8gVGhpcyB1c2VzIGEgUHJvbWlzZSB0byBibG9jayB0aGUgcHl0aG9uIHNpZGUgb24gY29tcGxldGlvbiBvZiBlYWNoIHN0ZXAsCi8vIHRoZW4gcGFzc2VzIHRoZSByZXN1bHQgb2YgdGhlIHByZXZpb3VzIHN0ZXAgYXMgdGhlIGlucHV0IHRvIHRoZSBuZXh0IHN0ZXAuCmZ1bmN0aW9uIF91cGxvYWRGaWxlc0NvbnRpbnVlKG91dHB1dElkKSB7CiAgY29uc3Qgb3V0cHV0RWxlbWVudCA9IGRvY3VtZW50LmdldEVsZW1lbnRCeUlkKG91dHB1dElkKTsKICBjb25zdCBzdGVwcyA9IG91dHB1dEVsZW1lbnQuc3RlcHM7CgogIGNvbnN0IG5leHQgPSBzdGVwcy5uZXh0KG91dHB1dEVsZW1lbnQubGFzdFByb21pc2VWYWx1ZSk7CiAgcmV0dXJuIFByb21pc2UucmVzb2x2ZShuZXh0LnZhbHVlLnByb21pc2UpLnRoZW4oKHZhbHVlKSA9PiB7CiAgICAvLyBDYWNoZSB0aGUgbGFzdCBwcm9taXNlIHZhbHVlIHRvIG1ha2UgaXQgYXZhaWxhYmxlIHRvIHRoZSBuZXh0CiAgICAvLyBzdGVwIG9mIHRoZSBnZW5lcmF0b3IuCiAgICBvdXRwdXRFbGVtZW50Lmxhc3RQcm9taXNlVmFsdWUgPSB2YWx1ZTsKICAgIHJldHVybiBuZXh0LnZhbHVlLnJlc3BvbnNlOwogIH0pOwp9CgovKioKICogR2VuZXJhdG9yIGZ1bmN0aW9uIHdoaWNoIGlzIGNhbGxlZCBiZXR3ZWVuIGVhY2ggYXN5bmMgc3RlcCBvZiB0aGUgdXBsb2FkCiAqIHByb2Nlc3MuCiAqIEBwYXJhbSB7c3RyaW5nfSBpbnB1dElkIEVsZW1lbnQgSUQgb2YgdGhlIGlucHV0IGZpbGUgcGlja2VyIGVsZW1lbnQuCiAqIEBwYXJhbSB7c3RyaW5nfSBvdXRwdXRJZCBFbGVtZW50IElEIG9mIHRoZSBvdXRwdXQgZGlzcGxheS4KICogQHJldHVybiB7IUl0ZXJhYmxlPCFPYmplY3Q+fSBJdGVyYWJsZSBvZiBuZXh0IHN0ZXBzLgogKi8KZnVuY3Rpb24qIHVwbG9hZEZpbGVzU3RlcChpbnB1dElkLCBvdXRwdXRJZCkgewogIGNvbnN0IGlucHV0RWxlbWVudCA9IGRvY3VtZW50LmdldEVsZW1lbnRCeUlkKGlucHV0SWQpOwogIGlucHV0RWxlbWVudC5kaXNhYmxlZCA9IGZhbHNlOwoKICBjb25zdCBvdXRwdXRFbGVtZW50ID0gZG9jdW1lbnQuZ2V0RWxlbWVudEJ5SWQob3V0cHV0SWQpOwogIG91dHB1dEVsZW1lbnQuaW5uZXJIVE1MID0gJyc7CgogIGNvbnN0IHBpY2tlZFByb21pc2UgPSBuZXcgUHJvbWlzZSgocmVzb2x2ZSkgPT4gewogICAgaW5wdXRFbGVtZW50LmFkZEV2ZW50TGlzdGVuZXIoJ2NoYW5nZScsIChlKSA9PiB7CiAgICAgIHJlc29sdmUoZS50YXJnZXQuZmlsZXMpOwogICAgfSk7CiAgfSk7CgogIGNvbnN0IGNhbmNlbCA9IGRvY3VtZW50LmNyZWF0ZUVsZW1lbnQoJ2J1dHRvbicpOwogIGlucHV0RWxlbWVudC5wYXJlbnRFbGVtZW50LmFwcGVuZENoaWxkKGNhbmNlbCk7CiAgY2FuY2VsLnRleHRDb250ZW50ID0gJ0NhbmNlbCB1cGxvYWQnOwogIGNvbnN0IGNhbmNlbFByb21pc2UgPSBuZXcgUHJvbWlzZSgocmVzb2x2ZSkgPT4gewogICAgY2FuY2VsLm9uY2xpY2sgPSAoKSA9PiB7CiAgICAgIHJlc29sdmUobnVsbCk7CiAgICB9OwogIH0pOwoKICAvLyBXYWl0IGZvciB0aGUgdXNlciB0byBwaWNrIHRoZSBmaWxlcy4KICBjb25zdCBmaWxlcyA9IHlpZWxkIHsKICAgIHByb21pc2U6IFByb21pc2UucmFjZShbcGlja2VkUHJvbWlzZSwgY2FuY2VsUHJvbWlzZV0pLAogICAgcmVzcG9uc2U6IHsKICAgICAgYWN0aW9uOiAnc3RhcnRpbmcnLAogICAgfQogIH07CgogIGNhbmNlbC5yZW1vdmUoKTsKCiAgLy8gRGlzYWJsZSB0aGUgaW5wdXQgZWxlbWVudCBzaW5jZSBmdXJ0aGVyIHBpY2tzIGFyZSBub3QgYWxsb3dlZC4KICBpbnB1dEVsZW1lbnQuZGlzYWJsZWQgPSB0cnVlOwoKICBpZiAoIWZpbGVzKSB7CiAgICByZXR1cm4gewogICAgICByZXNwb25zZTogewogICAgICAgIGFjdGlvbjogJ2NvbXBsZXRlJywKICAgICAgfQogICAgfTsKICB9CgogIGZvciAoY29uc3QgZmlsZSBvZiBmaWxlcykgewogICAgY29uc3QgbGkgPSBkb2N1bWVudC5jcmVhdGVFbGVtZW50KCdsaScpOwogICAgbGkuYXBwZW5kKHNwYW4oZmlsZS5uYW1lLCB7Zm9udFdlaWdodDogJ2JvbGQnfSkpOwogICAgbGkuYXBwZW5kKHNwYW4oCiAgICAgICAgYCgke2ZpbGUudHlwZSB8fCAnbi9hJ30pIC0gJHtmaWxlLnNpemV9IGJ5dGVzLCBgICsKICAgICAgICBgbGFzdCBtb2RpZmllZDogJHsKICAgICAgICAgICAgZmlsZS5sYXN0TW9kaWZpZWREYXRlID8gZmlsZS5sYXN0TW9kaWZpZWREYXRlLnRvTG9jYWxlRGF0ZVN0cmluZygpIDoKICAgICAgICAgICAgICAgICAgICAgICAgICAgICAgICAgICAgJ24vYSd9IC0gYCkpOwogICAgY29uc3QgcGVyY2VudCA9IHNwYW4oJzAlIGRvbmUnKTsKICAgIGxpLmFwcGVuZENoaWxkKHBlcmNlbnQpOwoKICAgIG91dHB1dEVsZW1lbnQuYXBwZW5kQ2hpbGQobGkpOwoKICAgIGNvbnN0IGZpbGVEYXRhUHJvbWlzZSA9IG5ldyBQcm9taXNlKChyZXNvbHZlKSA9PiB7CiAgICAgIGNvbnN0IHJlYWRlciA9IG5ldyBGaWxlUmVhZGVyKCk7CiAgICAgIHJlYWRlci5vbmxvYWQgPSAoZSkgPT4gewogICAgICAgIHJlc29sdmUoZS50YXJnZXQucmVzdWx0KTsKICAgICAgfTsKICAgICAgcmVhZGVyLnJlYWRBc0FycmF5QnVmZmVyKGZpbGUpOwogICAgfSk7CiAgICAvLyBXYWl0IGZvciB0aGUgZGF0YSB0byBiZSByZWFkeS4KICAgIGxldCBmaWxlRGF0YSA9IHlpZWxkIHsKICAgICAgcHJvbWlzZTogZmlsZURhdGFQcm9taXNlLAogICAgICByZXNwb25zZTogewogICAgICAgIGFjdGlvbjogJ2NvbnRpbnVlJywKICAgICAgfQogICAgfTsKCiAgICAvLyBVc2UgYSBjaHVua2VkIHNlbmRpbmcgdG8gYXZvaWQgbWVzc2FnZSBzaXplIGxpbWl0cy4gU2VlIGIvNjIxMTU2NjAuCiAgICBsZXQgcG9zaXRpb24gPSAwOwogICAgd2hpbGUgKHBvc2l0aW9uIDwgZmlsZURhdGEuYnl0ZUxlbmd0aCkgewogICAgICBjb25zdCBsZW5ndGggPSBNYXRoLm1pbihmaWxlRGF0YS5ieXRlTGVuZ3RoIC0gcG9zaXRpb24sIE1BWF9QQVlMT0FEX1NJWkUpOwogICAgICBjb25zdCBjaHVuayA9IG5ldyBVaW50OEFycmF5KGZpbGVEYXRhLCBwb3NpdGlvbiwgbGVuZ3RoKTsKICAgICAgcG9zaXRpb24gKz0gbGVuZ3RoOwoKICAgICAgY29uc3QgYmFzZTY0ID0gYnRvYShTdHJpbmcuZnJvbUNoYXJDb2RlLmFwcGx5KG51bGwsIGNodW5rKSk7CiAgICAgIHlpZWxkIHsKICAgICAgICByZXNwb25zZTogewogICAgICAgICAgYWN0aW9uOiAnYXBwZW5kJywKICAgICAgICAgIGZpbGU6IGZpbGUubmFtZSwKICAgICAgICAgIGRhdGE6IGJhc2U2NCwKICAgICAgICB9LAogICAgICB9OwogICAgICBwZXJjZW50LnRleHRDb250ZW50ID0KICAgICAgICAgIGAke01hdGgucm91bmQoKHBvc2l0aW9uIC8gZmlsZURhdGEuYnl0ZUxlbmd0aCkgKiAxMDApfSUgZG9uZWA7CiAgICB9CiAgfQoKICAvLyBBbGwgZG9uZS4KICB5aWVsZCB7CiAgICByZXNwb25zZTogewogICAgICBhY3Rpb246ICdjb21wbGV0ZScsCiAgICB9CiAgfTsKfQoKc2NvcGUuZ29vZ2xlID0gc2NvcGUuZ29vZ2xlIHx8IHt9OwpzY29wZS5nb29nbGUuY29sYWIgPSBzY29wZS5nb29nbGUuY29sYWIgfHwge307CnNjb3BlLmdvb2dsZS5jb2xhYi5fZmlsZXMgPSB7CiAgX3VwbG9hZEZpbGVzLAogIF91cGxvYWRGaWxlc0NvbnRpbnVlLAp9Owp9KShzZWxmKTsK",
              "ok": true,
              "headers": [
                [
                  "content-type",
                  "application/javascript"
                ]
              ],
              "status": 200,
              "status_text": ""
            }
          },
          "base_uri": "https://localhost:8080/",
          "height": 91
        },
        "id": "VffpuU76r5CA",
        "outputId": "5ed70442-c9fc-4c67-e8ba-4bd820216bcd"
      },
      "source": [
        "from google.colab import files\n",
        "files.upload()\n"
      ],
      "execution_count": 5,
      "outputs": [
        {
          "output_type": "display_data",
          "data": {
            "text/html": [
              "\n",
              "     <input type=\"file\" id=\"files-dd35f3f8-ff92-4dfc-94c0-cb6fe9e0cb12\" name=\"files[]\" multiple disabled\n",
              "        style=\"border:none\" />\n",
              "     <output id=\"result-dd35f3f8-ff92-4dfc-94c0-cb6fe9e0cb12\">\n",
              "      Upload widget is only available when the cell has been executed in the\n",
              "      current browser session. Please rerun this cell to enable.\n",
              "      </output>\n",
              "      <script src=\"/nbextensions/google.colab/files.js\"></script> "
            ],
            "text/plain": [
              "<IPython.core.display.HTML object>"
            ]
          },
          "metadata": {
            "tags": []
          }
        },
        {
          "output_type": "stream",
          "text": [
            "Saving kaggle.json to kaggle (1).json\n"
          ],
          "name": "stdout"
        },
        {
          "output_type": "execute_result",
          "data": {
            "text/plain": [
              "{'kaggle.json': b'{\"username\":\"dido1912\",\"key\":\"043008531b71256eb84d955b134ec8ff\"}'}"
            ]
          },
          "metadata": {
            "tags": []
          },
          "execution_count": 5
        }
      ]
    },
    {
      "cell_type": "code",
      "metadata": {
        "colab": {
          "base_uri": "https://localhost:8080/"
        },
        "id": "NIjnhKgyr9nl",
        "outputId": "593d1b0d-595b-4e72-f034-32abb1fa2cdb"
      },
      "source": [
        "! mkdir ~/.kaggle\n",
        "\n",
        "! cp kaggle.json ~/.kaggle/\n",
        "\n",
        "! chmod 600 ~/.kaggle/kaggle.json\n",
        "! kaggle competitions download -c 'uos-com2028'\n"
      ],
      "execution_count": 6,
      "outputs": [
        {
          "output_type": "stream",
          "text": [
            "mkdir: cannot create directory ‘/root/.kaggle’: File exists\n",
            "uos-com2028.zip: Skipping, found more recently modified local copy (use --force to force download)\n"
          ],
          "name": "stdout"
        }
      ]
    },
    {
      "cell_type": "code",
      "metadata": {
        "colab": {
          "base_uri": "https://localhost:8080/"
        },
        "id": "QDhp4tBRshj9",
        "outputId": "5da177e4-e1eb-4fc2-9acc-d960732dc902"
      },
      "source": [
        "! unzip uos-com2028.zip -d AI_Coursework"
      ],
      "execution_count": 7,
      "outputs": [
        {
          "output_type": "stream",
          "text": [
            "Archive:  uos-com2028.zip\n",
            "replace AI_Coursework/submission_sample.csv? [y]es, [n]o, [A]ll, [N]one, [r]ename: "
          ],
          "name": "stdout"
        }
      ]
    },
    {
      "cell_type": "code",
      "metadata": {
        "id": "xemrP00Bsk5u"
      },
      "source": [
        "#Imports\n",
        "import keras\n",
        "import numpy as np\n",
        "from numpy.random import seed\n",
        "import tensorflow as tf\n",
        "import pandas as pd # data processing, CSV file I/O (e.g. pd.read_csv)\n",
        "import matplotlib.pyplot as plt\n",
        "import os\n",
        "import cv2\n",
        "from sklearn.model_selection import train_test_split\n",
        "from keras.models import Sequential\n",
        "from keras.layers import Dense, Dropout, Activation, Flatten\n",
        "from keras.layers import Convolution2D, MaxPooling2D\n",
        "from keras.utils import np_utils\n",
        "from cv2 import cv2\n",
        "from tqdm import tqdm\n",
        "%matplotlib inline\n"
      ],
      "execution_count": 8,
      "outputs": []
    },
    {
      "cell_type": "code",
      "metadata": {
        "colab": {
          "base_uri": "https://localhost:8080/"
        },
        "id": "kMOn-8vxuQtI",
        "outputId": "33aac546-5714-4d73-de84-1b09ee6065d0"
      },
      "source": [
        "#Upload the data and make an array for the training images\n",
        "trained_images = [None] * 10270\n",
        "savedIn = 'AI_Coursework/train/train'\n",
        "for i in tqdm(os.listdir(savedIn)):\n",
        "  path = os.path.join(savedIn,i)\n",
        "  img = cv2.imread(path,cv2.IMREAD_COLOR)\n",
        "  img = cv2.resize(img, (64,64))\n",
        "  img = img/255\n",
        "  i = i[:-4]\n",
        "  trained_images[int(i)] = np.array(img)\n",
        "x_train = np.array(trained_images)\n"
      ],
      "execution_count": 9,
      "outputs": [
        {
          "output_type": "stream",
          "text": [
            "100%|██████████| 10270/10270 [00:42<00:00, 240.75it/s]\n"
          ],
          "name": "stderr"
        }
      ]
    },
    {
      "cell_type": "code",
      "metadata": {
        "colab": {
          "base_uri": "https://localhost:8080/"
        },
        "id": "5qeudY4Wuzc6",
        "outputId": "cfd2a600-58f8-4270-dcf5-38e795a360b3"
      },
      "source": [
        "#Checking if the shape is okay\n",
        "x_train.shape\n"
      ],
      "execution_count": 10,
      "outputs": [
        {
          "output_type": "execute_result",
          "data": {
            "text/plain": [
              "(10270, 64, 64, 3)"
            ]
          },
          "metadata": {
            "tags": []
          },
          "execution_count": 10
        }
      ]
    },
    {
      "cell_type": "code",
      "metadata": {
        "colab": {
          "base_uri": "https://localhost:8080/"
        },
        "id": "0SOHvKQFu2dx",
        "outputId": "6bf76e94-bdd5-468b-c240-9047c58aaadb"
      },
      "source": [
        "#Upload the data annd make an array for the testing images\n",
        "tested_images = [None] * 15009\n",
        "savedIn = 'AI_Coursework/test/test'\n",
        "for i in tqdm(os.listdir(savedIn)):\n",
        "  path = os.path.join(savedIn,i)\n",
        "  img = cv2.imread(path,cv2.IMREAD_COLOR)\n",
        "  img = cv2.resize(img, (64,64))\n",
        "  img = img/255\n",
        "  i = i[:-4]\n",
        "  tested_images[int(i)] = np.array(img)\n",
        "x_test = np.array(tested_images)\n"
      ],
      "execution_count": 11,
      "outputs": [
        {
          "output_type": "stream",
          "text": [
            "100%|██████████| 15009/15009 [01:02<00:00, 240.27it/s]\n"
          ],
          "name": "stderr"
        }
      ]
    },
    {
      "cell_type": "code",
      "metadata": {
        "colab": {
          "base_uri": "https://localhost:8080/"
        },
        "id": "CS_5C_5pvjXT",
        "outputId": "373d1f18-fb44-4609-f8fa-3340c7f48538"
      },
      "source": [
        "#Check if the shape of x_test is okay\n",
        "x_test.shape\n"
      ],
      "execution_count": 12,
      "outputs": [
        {
          "output_type": "execute_result",
          "data": {
            "text/plain": [
              "(15009, 64, 64, 3)"
            ]
          },
          "metadata": {
            "tags": []
          },
          "execution_count": 12
        }
      ]
    },
    {
      "cell_type": "code",
      "metadata": {
        "colab": {
          "base_uri": "https://localhost:8080/"
        },
        "id": "GNtslh-AvnK0",
        "outputId": "7cd29ea2-7d42-4e42-917d-01af7f5b6646"
      },
      "source": [
        "#Get the Y\n",
        "example = \"AI_Coursework/train.txt\"\n",
        "file = open(example, \"r\")\n",
        "lines = file.readlines()\n",
        "target = []\n",
        "for line in lines:\n",
        "  for n in line.split()[1:]:\n",
        "    target.append(int(n))\n",
        "y_train = np.array(target)\n",
        "print(y_train)\n"
      ],
      "execution_count": 13,
      "outputs": [
        {
          "output_type": "stream",
          "text": [
            "[ 5 21 18 ...  7  7  7]\n"
          ],
          "name": "stdout"
        }
      ]
    },
    {
      "cell_type": "code",
      "metadata": {
        "colab": {
          "base_uri": "https://localhost:8080/"
        },
        "id": "Cf3l2UtNvuWF",
        "outputId": "ebf530f6-339d-4caa-e69f-b9c43a0a8286"
      },
      "source": [
        "from keras. utils import to_categorical\n",
        "y_train = to_categorical(y_train)\n",
        "y_train.shape\n"
      ],
      "execution_count": 14,
      "outputs": [
        {
          "output_type": "execute_result",
          "data": {
            "text/plain": [
              "(10270, 23)"
            ]
          },
          "metadata": {
            "tags": []
          },
          "execution_count": 14
        }
      ]
    },
    {
      "cell_type": "code",
      "metadata": {
        "id": "RVizpAQ1Foll"
      },
      "source": [
        "X_train, X_test, Y_train, Y_test = train_test_split(x_train, y_train)\n"
      ],
      "execution_count": 15,
      "outputs": []
    },
    {
      "cell_type": "code",
      "metadata": {
        "colab": {
          "base_uri": "https://localhost:8080/"
        },
        "id": "TsMbjWkjCNCT",
        "outputId": "7e437d91-93bb-408d-f41c-4969c35f532c"
      },
      "source": [
        "from keras.models import Sequential\n",
        "#Adding dense layer imports\n",
        "from keras.layers import Dense, Dropout, Activation, Flatten\n",
        "from keras.layers import Convolution2D, MaxPooling2D\n",
        "from keras.utils import np_utils\n",
        "\n",
        "model = Sequential()\n",
        "model.add(Convolution2D(64, kernel_size = 3, activation='relu', input_shape=(64,64,3)))\n",
        "#model.add(MaxPooling2D(pool_size=(2, 2)))\n",
        "model.add(Convolution2D(64, kernel_size = 3, activation='relu'))\n",
        "model.add(MaxPooling2D(pool_size=(3, 3)))\n",
        "model.add(Dropout(0.2)) # could be changed to 0.25\n",
        "\n",
        "model.add(Convolution2D(64, kernel_size = 3, activation='relu'))\n",
        "model.add(Convolution2D(64, kernel_size = 3, activation='relu')) # could have it 2 no problem\n",
        "model.add(MaxPooling2D(pool_size=(3, 3)))\n",
        "model.add(Dropout(0.3))\n",
        "\n",
        "model.add(Convolution2D(128, kernel_size = 3, activation='relu'))\n",
        "model.add(Dropout(0.5))\n",
        "\n",
        "model.add(Flatten())\n",
        "\n",
        "#23 because of the 23 classes of butterflies available; could use either softmax or relu\n",
        "model.add(Dense(23, activation='softmax')) \n",
        "\n",
        "# Use of 'adam' to optimize, as it is the best practice considered\n",
        "model.compile(loss='categorical_crossentropy', optimizer='adam', metrics=['accuracy'])\n",
        "\n",
        "#Compile the model\n",
        "model.compile(optimizer='adam', loss = 'categorical_crossentropy', metrics=['accuracy'])\n",
        "\n",
        "print(model.summary()) #print statement could be omitted\n"
      ],
      "execution_count": 16,
      "outputs": [
        {
          "output_type": "stream",
          "text": [
            "Model: \"sequential\"\n",
            "_________________________________________________________________\n",
            "Layer (type)                 Output Shape              Param #   \n",
            "=================================================================\n",
            "conv2d (Conv2D)              (None, 62, 62, 64)        1792      \n",
            "_________________________________________________________________\n",
            "conv2d_1 (Conv2D)            (None, 60, 60, 64)        36928     \n",
            "_________________________________________________________________\n",
            "max_pooling2d (MaxPooling2D) (None, 20, 20, 64)        0         \n",
            "_________________________________________________________________\n",
            "dropout (Dropout)            (None, 20, 20, 64)        0         \n",
            "_________________________________________________________________\n",
            "conv2d_2 (Conv2D)            (None, 18, 18, 64)        36928     \n",
            "_________________________________________________________________\n",
            "conv2d_3 (Conv2D)            (None, 16, 16, 64)        36928     \n",
            "_________________________________________________________________\n",
            "max_pooling2d_1 (MaxPooling2 (None, 5, 5, 64)          0         \n",
            "_________________________________________________________________\n",
            "dropout_1 (Dropout)          (None, 5, 5, 64)          0         \n",
            "_________________________________________________________________\n",
            "conv2d_4 (Conv2D)            (None, 3, 3, 128)         73856     \n",
            "_________________________________________________________________\n",
            "dropout_2 (Dropout)          (None, 3, 3, 128)         0         \n",
            "_________________________________________________________________\n",
            "flatten (Flatten)            (None, 1152)              0         \n",
            "_________________________________________________________________\n",
            "dense (Dense)                (None, 23)                26519     \n",
            "=================================================================\n",
            "Total params: 212,951\n",
            "Trainable params: 212,951\n",
            "Non-trainable params: 0\n",
            "_________________________________________________________________\n",
            "None\n"
          ],
          "name": "stdout"
        }
      ]
    },
    {
      "cell_type": "code",
      "metadata": {
        "colab": {
          "base_uri": "https://localhost:8080/"
        },
        "id": "hMXZV2eOCc80",
        "outputId": "31092421-8ffa-433f-ef57-a274fa02db2f"
      },
      "source": [
        "# Fit the model\n",
        "model.fit(X_train, Y_train, validation_data=(X_test, Y_test), epochs=100, batch_size=258)\n"
      ],
      "execution_count": 17,
      "outputs": [
        {
          "output_type": "stream",
          "text": [
            "Epoch 1/100\n",
            "30/30 [==============================] - 41s 295ms/step - loss: 2.8659 - accuracy: 0.1428 - val_loss: 2.6546 - val_accuracy: 0.2504\n",
            "Epoch 2/100\n",
            "30/30 [==============================] - 5s 172ms/step - loss: 2.5685 - accuracy: 0.2539 - val_loss: 2.3785 - val_accuracy: 0.2862\n",
            "Epoch 3/100\n",
            "30/30 [==============================] - 5s 172ms/step - loss: 2.3875 - accuracy: 0.2980 - val_loss: 2.2890 - val_accuracy: 0.3111\n",
            "Epoch 4/100\n",
            "30/30 [==============================] - 5s 172ms/step - loss: 2.2687 - accuracy: 0.3204 - val_loss: 2.1286 - val_accuracy: 0.3489\n",
            "Epoch 5/100\n",
            "30/30 [==============================] - 5s 174ms/step - loss: 2.1631 - accuracy: 0.3567 - val_loss: 2.0878 - val_accuracy: 0.3641\n",
            "Epoch 6/100\n",
            "30/30 [==============================] - 5s 172ms/step - loss: 2.0662 - accuracy: 0.3852 - val_loss: 1.9708 - val_accuracy: 0.4065\n",
            "Epoch 7/100\n",
            "30/30 [==============================] - 5s 174ms/step - loss: 1.9854 - accuracy: 0.4027 - val_loss: 1.9231 - val_accuracy: 0.4171\n",
            "Epoch 8/100\n",
            "30/30 [==============================] - 5s 173ms/step - loss: 1.9043 - accuracy: 0.4235 - val_loss: 1.8453 - val_accuracy: 0.4260\n",
            "Epoch 9/100\n",
            "30/30 [==============================] - 5s 174ms/step - loss: 1.8244 - accuracy: 0.4441 - val_loss: 1.7961 - val_accuracy: 0.4416\n",
            "Epoch 10/100\n",
            "30/30 [==============================] - 5s 173ms/step - loss: 1.7962 - accuracy: 0.4548 - val_loss: 1.7553 - val_accuracy: 0.4661\n",
            "Epoch 11/100\n",
            "30/30 [==============================] - 5s 175ms/step - loss: 1.7014 - accuracy: 0.4775 - val_loss: 1.7456 - val_accuracy: 0.4642\n",
            "Epoch 12/100\n",
            "30/30 [==============================] - 5s 173ms/step - loss: 1.6582 - accuracy: 0.4855 - val_loss: 1.6943 - val_accuracy: 0.4755\n",
            "Epoch 13/100\n",
            "30/30 [==============================] - 5s 174ms/step - loss: 1.6115 - accuracy: 0.5093 - val_loss: 1.6655 - val_accuracy: 0.4786\n",
            "Epoch 14/100\n",
            "30/30 [==============================] - 5s 173ms/step - loss: 1.5876 - accuracy: 0.5106 - val_loss: 1.6041 - val_accuracy: 0.4981\n",
            "Epoch 15/100\n",
            "30/30 [==============================] - 5s 175ms/step - loss: 1.5090 - accuracy: 0.5212 - val_loss: 1.5791 - val_accuracy: 0.5078\n",
            "Epoch 16/100\n",
            "30/30 [==============================] - 5s 174ms/step - loss: 1.4626 - accuracy: 0.5442 - val_loss: 1.5274 - val_accuracy: 0.5230\n",
            "Epoch 17/100\n",
            "30/30 [==============================] - 5s 175ms/step - loss: 1.4057 - accuracy: 0.5611 - val_loss: 1.5045 - val_accuracy: 0.5362\n",
            "Epoch 18/100\n",
            "30/30 [==============================] - 5s 173ms/step - loss: 1.3620 - accuracy: 0.5718 - val_loss: 1.4640 - val_accuracy: 0.5522\n",
            "Epoch 19/100\n",
            "30/30 [==============================] - 5s 174ms/step - loss: 1.3532 - accuracy: 0.5774 - val_loss: 1.4626 - val_accuracy: 0.5549\n",
            "Epoch 20/100\n",
            "30/30 [==============================] - 5s 175ms/step - loss: 1.2894 - accuracy: 0.5930 - val_loss: 1.4224 - val_accuracy: 0.5580\n",
            "Epoch 21/100\n",
            "30/30 [==============================] - 5s 174ms/step - loss: 1.2609 - accuracy: 0.6060 - val_loss: 1.4262 - val_accuracy: 0.5666\n",
            "Epoch 22/100\n",
            "30/30 [==============================] - 5s 174ms/step - loss: 1.2247 - accuracy: 0.6108 - val_loss: 1.4564 - val_accuracy: 0.5646\n",
            "Epoch 23/100\n",
            "30/30 [==============================] - 5s 176ms/step - loss: 1.1931 - accuracy: 0.6201 - val_loss: 1.3737 - val_accuracy: 0.5705\n",
            "Epoch 24/100\n",
            "30/30 [==============================] - 5s 174ms/step - loss: 1.1527 - accuracy: 0.6382 - val_loss: 1.3881 - val_accuracy: 0.5767\n",
            "Epoch 25/100\n",
            "30/30 [==============================] - 5s 175ms/step - loss: 1.1632 - accuracy: 0.6335 - val_loss: 1.3585 - val_accuracy: 0.5962\n",
            "Epoch 26/100\n",
            "30/30 [==============================] - 5s 174ms/step - loss: 1.1168 - accuracy: 0.6462 - val_loss: 1.3206 - val_accuracy: 0.5997\n",
            "Epoch 27/100\n",
            "30/30 [==============================] - 5s 175ms/step - loss: 1.0736 - accuracy: 0.6530 - val_loss: 1.3322 - val_accuracy: 0.5927\n",
            "Epoch 28/100\n",
            "30/30 [==============================] - 5s 173ms/step - loss: 1.0447 - accuracy: 0.6673 - val_loss: 1.3158 - val_accuracy: 0.6028\n",
            "Epoch 29/100\n",
            "30/30 [==============================] - 5s 175ms/step - loss: 0.9975 - accuracy: 0.6771 - val_loss: 1.3096 - val_accuracy: 0.6137\n",
            "Epoch 30/100\n",
            "30/30 [==============================] - 5s 173ms/step - loss: 1.0243 - accuracy: 0.6697 - val_loss: 1.3583 - val_accuracy: 0.5931\n",
            "Epoch 31/100\n",
            "30/30 [==============================] - 5s 175ms/step - loss: 1.0059 - accuracy: 0.6771 - val_loss: 1.3267 - val_accuracy: 0.5970\n",
            "Epoch 32/100\n",
            "30/30 [==============================] - 5s 173ms/step - loss: 0.9399 - accuracy: 0.6989 - val_loss: 1.2996 - val_accuracy: 0.6121\n",
            "Epoch 33/100\n",
            "30/30 [==============================] - 5s 175ms/step - loss: 0.9166 - accuracy: 0.6966 - val_loss: 1.3016 - val_accuracy: 0.5966\n",
            "Epoch 34/100\n",
            "30/30 [==============================] - 5s 174ms/step - loss: 0.9134 - accuracy: 0.7041 - val_loss: 1.2636 - val_accuracy: 0.6172\n",
            "Epoch 35/100\n",
            "30/30 [==============================] - 5s 176ms/step - loss: 0.9146 - accuracy: 0.7034 - val_loss: 1.3137 - val_accuracy: 0.6001\n",
            "Epoch 36/100\n",
            "30/30 [==============================] - 5s 174ms/step - loss: 0.8850 - accuracy: 0.7083 - val_loss: 1.2636 - val_accuracy: 0.6254\n",
            "Epoch 37/100\n",
            "30/30 [==============================] - 5s 175ms/step - loss: 0.8480 - accuracy: 0.7239 - val_loss: 1.3050 - val_accuracy: 0.6160\n",
            "Epoch 38/100\n",
            "30/30 [==============================] - 5s 174ms/step - loss: 0.8402 - accuracy: 0.7263 - val_loss: 1.2947 - val_accuracy: 0.6137\n",
            "Epoch 39/100\n",
            "30/30 [==============================] - 5s 175ms/step - loss: 0.8180 - accuracy: 0.7312 - val_loss: 1.3502 - val_accuracy: 0.5977\n",
            "Epoch 40/100\n",
            "30/30 [==============================] - 5s 174ms/step - loss: 0.8369 - accuracy: 0.7258 - val_loss: 1.2891 - val_accuracy: 0.6238\n",
            "Epoch 41/100\n",
            "30/30 [==============================] - 5s 175ms/step - loss: 0.7793 - accuracy: 0.7458 - val_loss: 1.2967 - val_accuracy: 0.6121\n",
            "Epoch 42/100\n",
            "30/30 [==============================] - 5s 173ms/step - loss: 0.7865 - accuracy: 0.7421 - val_loss: 1.2852 - val_accuracy: 0.6277\n",
            "Epoch 43/100\n",
            "30/30 [==============================] - 5s 176ms/step - loss: 0.7530 - accuracy: 0.7498 - val_loss: 1.2791 - val_accuracy: 0.6231\n",
            "Epoch 44/100\n",
            "30/30 [==============================] - 5s 173ms/step - loss: 0.7465 - accuracy: 0.7504 - val_loss: 1.2646 - val_accuracy: 0.6301\n",
            "Epoch 45/100\n",
            "30/30 [==============================] - 5s 175ms/step - loss: 0.7175 - accuracy: 0.7527 - val_loss: 1.3001 - val_accuracy: 0.6250\n",
            "Epoch 46/100\n",
            "30/30 [==============================] - 5s 175ms/step - loss: 0.7237 - accuracy: 0.7576 - val_loss: 1.2861 - val_accuracy: 0.6297\n",
            "Epoch 47/100\n",
            "30/30 [==============================] - 5s 176ms/step - loss: 0.6701 - accuracy: 0.7782 - val_loss: 1.3535 - val_accuracy: 0.6172\n",
            "Epoch 48/100\n",
            "30/30 [==============================] - 5s 174ms/step - loss: 0.6858 - accuracy: 0.7648 - val_loss: 1.2772 - val_accuracy: 0.6297\n",
            "Epoch 49/100\n",
            "30/30 [==============================] - 5s 175ms/step - loss: 0.6544 - accuracy: 0.7841 - val_loss: 1.2670 - val_accuracy: 0.6254\n",
            "Epoch 50/100\n",
            "30/30 [==============================] - 5s 173ms/step - loss: 0.6670 - accuracy: 0.7836 - val_loss: 1.2725 - val_accuracy: 0.6355\n",
            "Epoch 51/100\n",
            "30/30 [==============================] - 5s 175ms/step - loss: 0.6504 - accuracy: 0.7831 - val_loss: 1.3079 - val_accuracy: 0.6289\n",
            "Epoch 52/100\n",
            "30/30 [==============================] - 5s 175ms/step - loss: 0.6380 - accuracy: 0.7894 - val_loss: 1.2923 - val_accuracy: 0.6382\n",
            "Epoch 53/100\n",
            "30/30 [==============================] - 5s 174ms/step - loss: 0.6094 - accuracy: 0.7970 - val_loss: 1.2775 - val_accuracy: 0.6429\n",
            "Epoch 54/100\n",
            "30/30 [==============================] - 5s 174ms/step - loss: 0.5821 - accuracy: 0.7980 - val_loss: 1.3024 - val_accuracy: 0.6250\n",
            "Epoch 55/100\n",
            "30/30 [==============================] - 5s 175ms/step - loss: 0.6209 - accuracy: 0.7992 - val_loss: 1.2958 - val_accuracy: 0.6421\n",
            "Epoch 56/100\n",
            "30/30 [==============================] - 5s 175ms/step - loss: 0.5936 - accuracy: 0.8020 - val_loss: 1.3433 - val_accuracy: 0.6324\n",
            "Epoch 57/100\n",
            "30/30 [==============================] - 5s 176ms/step - loss: 0.5788 - accuracy: 0.8049 - val_loss: 1.3101 - val_accuracy: 0.6355\n",
            "Epoch 58/100\n",
            "30/30 [==============================] - 5s 175ms/step - loss: 0.5746 - accuracy: 0.8116 - val_loss: 1.3088 - val_accuracy: 0.6316\n",
            "Epoch 59/100\n",
            "30/30 [==============================] - 5s 175ms/step - loss: 0.5735 - accuracy: 0.8104 - val_loss: 1.2784 - val_accuracy: 0.6421\n",
            "Epoch 60/100\n",
            "30/30 [==============================] - 5s 175ms/step - loss: 0.5773 - accuracy: 0.8037 - val_loss: 1.3396 - val_accuracy: 0.6340\n",
            "Epoch 61/100\n",
            "30/30 [==============================] - 5s 177ms/step - loss: 0.5296 - accuracy: 0.8224 - val_loss: 1.2714 - val_accuracy: 0.6456\n",
            "Epoch 62/100\n",
            "30/30 [==============================] - 5s 174ms/step - loss: 0.5424 - accuracy: 0.8126 - val_loss: 1.2936 - val_accuracy: 0.6382\n",
            "Epoch 63/100\n",
            "30/30 [==============================] - 5s 175ms/step - loss: 0.5531 - accuracy: 0.8156 - val_loss: 1.3040 - val_accuracy: 0.6421\n",
            "Epoch 64/100\n",
            "30/30 [==============================] - 5s 174ms/step - loss: 0.5083 - accuracy: 0.8283 - val_loss: 1.2618 - val_accuracy: 0.6519\n",
            "Epoch 65/100\n",
            "30/30 [==============================] - 5s 175ms/step - loss: 0.4950 - accuracy: 0.8387 - val_loss: 1.3330 - val_accuracy: 0.6519\n",
            "Epoch 66/100\n",
            "30/30 [==============================] - 5s 175ms/step - loss: 0.5215 - accuracy: 0.8220 - val_loss: 1.3102 - val_accuracy: 0.6445\n",
            "Epoch 67/100\n",
            "30/30 [==============================] - 5s 176ms/step - loss: 0.5083 - accuracy: 0.8271 - val_loss: 1.3371 - val_accuracy: 0.6414\n",
            "Epoch 68/100\n",
            "30/30 [==============================] - 5s 174ms/step - loss: 0.4977 - accuracy: 0.8341 - val_loss: 1.3040 - val_accuracy: 0.6519\n",
            "Epoch 69/100\n",
            "30/30 [==============================] - 5s 175ms/step - loss: 0.4922 - accuracy: 0.8322 - val_loss: 1.3175 - val_accuracy: 0.6452\n",
            "Epoch 70/100\n",
            "30/30 [==============================] - 5s 173ms/step - loss: 0.4714 - accuracy: 0.8410 - val_loss: 1.3183 - val_accuracy: 0.6429\n",
            "Epoch 71/100\n",
            "30/30 [==============================] - 5s 176ms/step - loss: 0.4815 - accuracy: 0.8322 - val_loss: 1.3204 - val_accuracy: 0.6445\n",
            "Epoch 72/100\n",
            "30/30 [==============================] - 5s 174ms/step - loss: 0.4662 - accuracy: 0.8387 - val_loss: 1.3705 - val_accuracy: 0.6441\n",
            "Epoch 73/100\n",
            "30/30 [==============================] - 5s 175ms/step - loss: 0.4627 - accuracy: 0.8384 - val_loss: 1.3300 - val_accuracy: 0.6519\n",
            "Epoch 74/100\n",
            "30/30 [==============================] - 5s 174ms/step - loss: 0.4486 - accuracy: 0.8501 - val_loss: 1.3369 - val_accuracy: 0.6410\n",
            "Epoch 75/100\n",
            "30/30 [==============================] - 5s 177ms/step - loss: 0.4513 - accuracy: 0.8448 - val_loss: 1.3501 - val_accuracy: 0.6359\n",
            "Epoch 76/100\n",
            "30/30 [==============================] - 5s 174ms/step - loss: 0.4256 - accuracy: 0.8485 - val_loss: 1.3030 - val_accuracy: 0.6593\n",
            "Epoch 77/100\n",
            "30/30 [==============================] - 5s 176ms/step - loss: 0.4427 - accuracy: 0.8536 - val_loss: 1.3377 - val_accuracy: 0.6488\n",
            "Epoch 78/100\n",
            "30/30 [==============================] - 5s 174ms/step - loss: 0.4065 - accuracy: 0.8665 - val_loss: 1.3349 - val_accuracy: 0.6460\n",
            "Epoch 79/100\n",
            "30/30 [==============================] - 5s 177ms/step - loss: 0.4209 - accuracy: 0.8532 - val_loss: 1.3309 - val_accuracy: 0.6460\n",
            "Epoch 80/100\n",
            "30/30 [==============================] - 5s 174ms/step - loss: 0.4110 - accuracy: 0.8576 - val_loss: 1.3433 - val_accuracy: 0.6573\n",
            "Epoch 81/100\n",
            "30/30 [==============================] - 5s 176ms/step - loss: 0.4120 - accuracy: 0.8568 - val_loss: 1.3477 - val_accuracy: 0.6511\n",
            "Epoch 82/100\n",
            "30/30 [==============================] - 5s 174ms/step - loss: 0.3901 - accuracy: 0.8659 - val_loss: 1.3554 - val_accuracy: 0.6468\n",
            "Epoch 83/100\n",
            "30/30 [==============================] - 5s 176ms/step - loss: 0.4314 - accuracy: 0.8571 - val_loss: 1.3695 - val_accuracy: 0.6421\n",
            "Epoch 84/100\n",
            "30/30 [==============================] - 5s 175ms/step - loss: 0.4059 - accuracy: 0.8639 - val_loss: 1.3037 - val_accuracy: 0.6523\n",
            "Epoch 85/100\n",
            "30/30 [==============================] - 5s 175ms/step - loss: 0.3960 - accuracy: 0.8664 - val_loss: 1.3604 - val_accuracy: 0.6526\n",
            "Epoch 86/100\n",
            "30/30 [==============================] - 5s 174ms/step - loss: 0.4133 - accuracy: 0.8596 - val_loss: 1.3739 - val_accuracy: 0.6597\n",
            "Epoch 87/100\n",
            "30/30 [==============================] - 5s 175ms/step - loss: 0.4091 - accuracy: 0.8554 - val_loss: 1.3559 - val_accuracy: 0.6515\n",
            "Epoch 88/100\n",
            "30/30 [==============================] - 5s 174ms/step - loss: 0.3835 - accuracy: 0.8697 - val_loss: 1.3555 - val_accuracy: 0.6511\n",
            "Epoch 89/100\n",
            "30/30 [==============================] - 5s 176ms/step - loss: 0.3765 - accuracy: 0.8705 - val_loss: 1.3463 - val_accuracy: 0.6515\n",
            "Epoch 90/100\n",
            "30/30 [==============================] - 5s 173ms/step - loss: 0.3468 - accuracy: 0.8790 - val_loss: 1.4379 - val_accuracy: 0.6554\n",
            "Epoch 91/100\n",
            "30/30 [==============================] - 5s 173ms/step - loss: 0.3653 - accuracy: 0.8745 - val_loss: 1.4443 - val_accuracy: 0.6511\n",
            "Epoch 92/100\n",
            "30/30 [==============================] - 5s 174ms/step - loss: 0.3649 - accuracy: 0.8761 - val_loss: 1.3678 - val_accuracy: 0.6589\n",
            "Epoch 93/100\n",
            "30/30 [==============================] - 5s 175ms/step - loss: 0.3519 - accuracy: 0.8853 - val_loss: 1.3852 - val_accuracy: 0.6585\n",
            "Epoch 94/100\n",
            "30/30 [==============================] - 5s 172ms/step - loss: 0.3428 - accuracy: 0.8813 - val_loss: 1.4125 - val_accuracy: 0.6538\n",
            "Epoch 95/100\n",
            "30/30 [==============================] - 5s 176ms/step - loss: 0.3446 - accuracy: 0.8887 - val_loss: 1.4185 - val_accuracy: 0.6562\n",
            "Epoch 96/100\n",
            "30/30 [==============================] - 5s 175ms/step - loss: 0.3190 - accuracy: 0.8890 - val_loss: 1.3796 - val_accuracy: 0.6558\n",
            "Epoch 97/100\n",
            "30/30 [==============================] - 5s 175ms/step - loss: 0.3800 - accuracy: 0.8732 - val_loss: 1.3570 - val_accuracy: 0.6569\n",
            "Epoch 98/100\n",
            "30/30 [==============================] - 5s 174ms/step - loss: 0.3616 - accuracy: 0.8766 - val_loss: 1.4193 - val_accuracy: 0.6534\n",
            "Epoch 99/100\n",
            "30/30 [==============================] - 5s 176ms/step - loss: 0.3166 - accuracy: 0.8918 - val_loss: 1.4049 - val_accuracy: 0.6565\n",
            "Epoch 100/100\n",
            "30/30 [==============================] - 5s 174ms/step - loss: 0.3132 - accuracy: 0.8941 - val_loss: 1.3553 - val_accuracy: 0.6655\n"
          ],
          "name": "stdout"
        },
        {
          "output_type": "execute_result",
          "data": {
            "text/plain": [
              "<tensorflow.python.keras.callbacks.History at 0x7f9be040ba90>"
            ]
          },
          "metadata": {
            "tags": []
          },
          "execution_count": 17
        }
      ]
    },
    {
      "cell_type": "code",
      "metadata": {
        "colab": {
          "base_uri": "https://localhost:8080/"
        },
        "id": "rztVRcxTR8Ne",
        "outputId": "ccaba7f1-1722-4096-91ca-b81e7fba93ee"
      },
      "source": [
        "loss_and_metrics = model.evaluate(X_test, Y_test, verbose=2)\n",
        "print(\"Test Loss\", loss_and_metrics[0])\n",
        "print(\"Accuracy of Model\", loss_and_metrics[1]*100, '%')\n"
      ],
      "execution_count": 18,
      "outputs": [
        {
          "output_type": "stream",
          "text": [
            "81/81 - 1s - loss: 1.3553 - accuracy: 0.6655\n",
            "Test Loss 1.3553181886672974\n",
            "Accuracy of Model 66.5498435497284 %\n"
          ],
          "name": "stdout"
        }
      ]
    },
    {
      "cell_type": "code",
      "metadata": {
        "id": "JnP_HErEFUp3",
        "colab": {
          "base_uri": "https://localhost:8080/"
        },
        "outputId": "df7e8a98-11d4-42a9-90bc-7e750cddb123"
      },
      "source": [
        "#Make the y_pred\n",
        "y_pred = model.predict(x_test)\n",
        "y_pred = np.argmax(y_pred, axis=1)\n",
        "\n",
        "print(len(y_pred))\n"
      ],
      "execution_count": 19,
      "outputs": [
        {
          "output_type": "stream",
          "text": [
            "15009\n"
          ],
          "name": "stdout"
        }
      ]
    },
    {
      "cell_type": "code",
      "metadata": {
        "id": "j8T0EblfFcFw"
      },
      "source": [
        "#Creating ther .csv file\n",
        "col = pd.read_csv(\"AI_Coursework/submission_sample.csv\")\n",
        "col[\"label\"] = y_pred\n",
        "col.to_csv(\"AI_Coursework/dk00504_CW.csv\", index=False)\n"
      ],
      "execution_count": 21,
      "outputs": []
    }
  ]
}